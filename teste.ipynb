{
 "cells": [
  {
   "cell_type": "code",
   "execution_count": 89,
   "id": "ab450d15",
   "metadata": {},
   "outputs": [],
   "source": [
    "import pandas as pd"
   ]
  },
  {
   "cell_type": "code",
   "execution_count": 90,
   "id": "a076016e",
   "metadata": {},
   "outputs": [],
   "source": [
    "caminho = 'data\\\\destinations.csv'\n",
    "df = pd.read_csv(caminho, sep = ',', encoding = 'ISO-8859-1')\n",
    "##df.head()"
   ]
  },
  {
   "cell_type": "code",
   "execution_count": 91,
   "id": "9776a5ec",
   "metadata": {},
   "outputs": [],
   "source": [
    "##resultado = df.iloc[:20].groupby('Destination')[ 'Famous Foods'].describe()\n",
    "##print(resultado)"
   ]
  },
  {
   "cell_type": "code",
   "execution_count": 96,
   "id": "ec5cd3ff",
   "metadata": {},
   "outputs": [
    {
     "name": "stdout",
     "output_type": "stream",
     "text": [
      "            count unique                    top freq\n",
      "Destination                                         \n",
      "Florence        1      1   Pizza, Pasta, Gelato    1\n",
      "Naples          1      1  Pizza, Pasta, Cannoli    1\n",
      "Pisa            1      1   Pizza, Pasta, Gelato    1\n",
      "Rome            1      1   Pizza, Pasta, Gelato    1\n",
      "Venice          1      1   Pizza, Pasta, Gelato    1\n",
      "Verona          1      1  Pizza, Pasta, Risotto    1\n",
      "                             count unique                    top freq\n",
      "Destination                                                          \n",
      "Casino Square                    1      1  Mediterranean cuisine    1\n",
      "Exotic Garden                    1      1  Mediterranean cuisine    1\n",
      "Grimaldi Forum                   1      1  Mediterranean cuisine    1\n",
      "Japanese Garden                  1      1  Mediterranean cuisine    1\n",
      "Larvotto Beach                   1      1  Mediterranean cuisine    1\n",
      "Monaco-Ville                     1      1  Mediterranean cuisine    1\n",
      "Monte Carlo                      1      1  Mediterranean cuisine    1\n",
      "Oceanographic Museum             1      1  Mediterranean cuisine    1\n",
      "Rainier III Botanical Garden     1      1  Mediterranean cuisine    1\n",
      "Saint-Martin Gardens             1      1  Mediterranean cuisine    1\n"
     ]
    }
   ],
   "source": [
    "ident_Pizza= df[df['Famous Foods'].str.contains('Pizza')]\n",
    "result_pizza = ident_Pizza.groupby('Destination')['Famous Foods'].describe()\n",
    "print(result_pizza)\n",
    "\n",
    "ident_medit = df[df['Famous Foods'].str.contains('Mediterranean cuisine')]\n",
    "result_medit = ident_medit.groupby('Destination')['Famous Foods'].describe()\n",
    "print(result_medit)\n",
    "\n",
    "\n"
   ]
  },
  {
   "cell_type": "code",
   "execution_count": 93,
   "id": "690cfdf8",
   "metadata": {},
   "outputs": [],
   "source": [
    "ident_fish = df[df['Famous Foods'].str.contains('Fish')]\n",
    "result_fish = ident_fish.groupby('Destination')['Famous Foods'].describe()\n",
    "ident_seafood = df[df['Famous Foods'].str.contains('Seafood')]\n",
    "result_seafood = ident_seafood.groupby('Destination')['Famous Foods'].describe()\n",
    "seafood_list = []\n",
    "seafood_list.append(result_fish)\n",
    "seafood_list.append(result_seafood)\n",
    "\n",
    "final_list = pd.concat(seafood_list, ignore_index = True)\n",
    "\n",
    "##print(final_list)"
   ]
  }
 ],
 "metadata": {
  "kernelspec": {
   "display_name": "venv (3.11.9)",
   "language": "python",
   "name": "python3"
  },
  "language_info": {
   "codemirror_mode": {
    "name": "ipython",
    "version": 3
   },
   "file_extension": ".py",
   "mimetype": "text/x-python",
   "name": "python",
   "nbconvert_exporter": "python",
   "pygments_lexer": "ipython3",
   "version": "3.11.9"
  }
 },
 "nbformat": 4,
 "nbformat_minor": 5
}
