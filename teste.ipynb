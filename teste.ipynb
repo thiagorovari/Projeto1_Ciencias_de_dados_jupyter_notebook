{
 "cells": [
  {
   "cell_type": "code",
   "execution_count": 35,
   "id": "ab450d15",
   "metadata": {},
   "outputs": [],
   "source": [
    "import pandas as pd"
   ]
  },
  {
   "cell_type": "code",
   "execution_count": 36,
   "id": "a076016e",
   "metadata": {},
   "outputs": [],
   "source": [
    "caminho = 'data\\\\destinations.csv'\n",
    "df = pd.read_csv(caminho, sep = ',', encoding = 'ISO-8859-1')\n",
    "##df.head()"
   ]
  },
  {
   "cell_type": "code",
   "execution_count": 37,
   "id": "34398657",
   "metadata": {},
   "outputs": [],
   "source": [
    "##df.tail()"
   ]
  },
  {
   "cell_type": "code",
   "execution_count": 38,
   "id": "9776a5ec",
   "metadata": {},
   "outputs": [],
   "source": [
    "##resultado = df.iloc[:20].groupby('Destination')[ 'Famous Foods'].describe()\n",
    "##print(resultado)"
   ]
  },
  {
   "cell_type": "code",
   "execution_count": null,
   "id": "ec5cd3ff",
   "metadata": {},
   "outputs": [
    {
     "name": "stdout",
     "output_type": "stream",
     "text": [
      "            count unique                    top freq\n",
      "Destination                                         \n",
      "Florence        1      1   Pizza, Pasta, Gelato    1\n",
      "Naples          1      1  Pizza, Pasta, Cannoli    1\n",
      "Pisa            1      1   Pizza, Pasta, Gelato    1\n",
      "Rome            1      1   Pizza, Pasta, Gelato    1\n",
      "Venice          1      1   Pizza, Pasta, Gelato    1\n",
      "Verona          1      1  Pizza, Pasta, Risotto    1\n"
     ]
    }
   ],
   "source": [
    "ident_Pizza= df[df['Famous Foods'].str.contains('Pizza')]\n",
    "result_pizza = ident_Pizza.groupby('Destination')['Famous Foods'].describe()\n",
    "print(result_pizza)\n",
    "\n"
   ]
  }
 ],
 "metadata": {
  "kernelspec": {
   "display_name": "venv (3.11.9)",
   "language": "python",
   "name": "python3"
  },
  "language_info": {
   "codemirror_mode": {
    "name": "ipython",
    "version": 3
   },
   "file_extension": ".py",
   "mimetype": "text/x-python",
   "name": "python",
   "nbconvert_exporter": "python",
   "pygments_lexer": "ipython3",
   "version": "3.11.9"
  }
 },
 "nbformat": 4,
 "nbformat_minor": 5
}
