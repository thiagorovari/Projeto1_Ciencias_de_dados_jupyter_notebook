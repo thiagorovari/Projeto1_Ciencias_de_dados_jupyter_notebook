{
 "cells": [
  {
   "cell_type": "code",
   "execution_count": 2,
   "id": "ab450d15",
   "metadata": {},
   "outputs": [],
   "source": [
    "import pandas as pd"
   ]
  },
  {
   "cell_type": "code",
   "execution_count": null,
   "id": "a076016e",
   "metadata": {},
   "outputs": [],
   "source": [
    "caminho = 'data\\\\destinations.csv'\n",
    "df = pd.read_csv(caminho, sep = ',', encoding = 'ISO-8859-1')"
   ]
  },
  {
   "cell_type": "code",
   "execution_count": null,
   "id": "9776a5ec",
   "metadata": {},
   "outputs": [],
   "source": []
  },
  {
   "cell_type": "code",
   "execution_count": 5,
   "id": "ec5cd3ff",
   "metadata": {},
   "outputs": [
    {
     "name": "stdout",
     "output_type": "stream",
     "text": [
      "            count unique                    top freq\n",
      "Destination                                         \n",
      "Florence        1      1   Pizza, Pasta, Gelato    1\n",
      "Naples          1      1  Pizza, Pasta, Cannoli    1\n",
      "Pisa            1      1   Pizza, Pasta, Gelato    1\n",
      "Rome            1      1   Pizza, Pasta, Gelato    1\n",
      "Venice          1      1   Pizza, Pasta, Gelato    1\n",
      "Verona          1      1  Pizza, Pasta, Risotto    1\n",
      "                             count unique                    top freq\n",
      "Destination                                                          \n",
      "Casino Square                    1      1  Mediterranean cuisine    1\n",
      "Exotic Garden                    1      1  Mediterranean cuisine    1\n",
      "Grimaldi Forum                   1      1  Mediterranean cuisine    1\n",
      "Japanese Garden                  1      1  Mediterranean cuisine    1\n",
      "Larvotto Beach                   1      1  Mediterranean cuisine    1\n",
      "Monaco-Ville                     1      1  Mediterranean cuisine    1\n",
      "Monte Carlo                      1      1  Mediterranean cuisine    1\n",
      "Oceanographic Museum             1      1  Mediterranean cuisine    1\n",
      "Rainier III Botanical Garden     1      1  Mediterranean cuisine    1\n",
      "Saint-Martin Gardens             1      1  Mediterranean cuisine    1\n"
     ]
    }
   ],
   "source": [
    "ident_Pizza= df[df['Famous Foods'].str.contains('Pizza')]\n",
    "result_pizza = ident_Pizza.groupby('Destination')['Famous Foods'].describe()\n",
    "print(result_pizza)\n",
    "\n",
    "ident_medit = df[df['Famous Foods'].str.contains('Mediterranean cuisine')]\n",
    "result_medit = ident_medit.groupby('Destination')['Famous Foods'].describe()\n",
    "print(result_medit)\n",
    "\n",
    "\n"
   ]
  },
  {
   "cell_type": "code",
   "execution_count": 6,
   "id": "690cfdf8",
   "metadata": {},
   "outputs": [
    {
     "name": "stdout",
     "output_type": "stream",
     "text": [
      "   count unique                                          top freq\n",
      "0      1      1                             Fish, Lamb, Skyr    1\n",
      "1      1      1                      Fish, Reindeer, Brunost    1\n",
      "2      1      1                             Fish, Lamb, Skyr    1\n",
      "3      1      1  Fish and chips, Sunday roast, Afternoon tea    1\n",
      "4      1      1                      Fish, Reindeer, Brunost    1\n",
      "5      1      1                      Fish, Reindeer, Brunost    1\n",
      "6      1      1                             Fish, Lamb, Skyr    1\n",
      "7      1      1                      Fish, Reindeer, Brunost    1\n",
      "8      1      1                      Fish, Reindeer, Brunost    1\n",
      "9      1      1                             Fish, Lamb, Skyr    1\n",
      "10     1      1  Fish and chips, Sunday roast, Afternoon tea    1\n",
      "11     1      1  Fish and chips, Sunday roast, Afternoon tea    1\n",
      "12     1      1                      Fish, Reindeer, Brunost    1\n",
      "13     1      1  Fish and chips, Sunday roast, Afternoon tea    1\n",
      "14     1      1  Fish and chips, Sunday roast, Afternoon tea    1\n",
      "15     1      1                      Fish, Reindeer, Brunost    1\n",
      "16     1      1                      Fish, Reindeer, Brunost    1\n",
      "17     1      1                             Fish, Lamb, Skyr    1\n",
      "18     1      1                             Fish, Lamb, Skyr    1\n",
      "19     1      1                             Fish, Lamb, Skyr    1\n",
      "20     1      1                             Fish, Lamb, Skyr    1\n",
      "21     1      1                      Fish, Reindeer, Brunost    1\n",
      "22     1      1  Fish and chips, Sunday roast, Afternoon tea    1\n",
      "23     1      1  Fish and chips, Sunday roast, Afternoon tea    1\n",
      "24     1      1                      Fish, Reindeer, Brunost    1\n",
      "25     1      1                             Fish, Lamb, Skyr    1\n",
      "26     1      1                             Fish, Lamb, Skyr    1\n",
      "27     1      1  Fish and chips, Sunday roast, Afternoon tea    1\n",
      "28     1      1     Seafood, Pastel de nata, Pastel de Belm    1\n",
      "29     1      1            Seafood, Sardinha, Pastel de nata    1\n",
      "30     1      1                          Seafood, Limoncello    1\n",
      "31     1      1            Seafood, Bacalhau, Pastel de nata    1\n",
      "32     1      1            Seafood, Bacalhau, Pastel de nata    1\n",
      "33     1      1                               Seafood, Pesto    1\n",
      "34     1      1            Seafood, Bacalhau, Pastel de nata    1\n",
      "35     1      1               Seafood, Greek salad, Moussaka    1\n",
      "36     1      1               Seafood, Greek salad, Moussaka    1\n",
      "37     1      1            Seafood, Bacalhau, Pastel de nata    1\n",
      "38     1      1                               Seafood, Pasta    1\n",
      "39     1      1                              Seafood, Crepes    1\n",
      "40     1      1               Seafood, Greek salad, Moussaka    1\n",
      "41     1      1               Seafood, Greek salad, Moussaka    1\n",
      "42     1      1               Seafood, Greek salad, Moussaka    1\n",
      "43     1      1               Seafood, Greek salad, Moussaka    1\n",
      "44     1      1     Seafood, Pastel de nata, Pastel de Belm    1\n"
     ]
    }
   ],
   "source": [
    "ident_fish = df[df['Famous Foods'].str.contains('Fish')]\n",
    "result_fish = ident_fish.groupby('Destination')['Famous Foods'].describe()\n",
    "ident_seafood = df[df['Famous Foods'].str.contains('Seafood')]\n",
    "result_seafood = ident_seafood.groupby('Destination')['Famous Foods'].describe()\n",
    "seafood_list = []\n",
    "seafood_list.append(result_fish)\n",
    "seafood_list.append(result_seafood)\n",
    "\n",
    "final_list = pd.concat(seafood_list, ignore_index = True)\n",
    "\n",
    "print(final_list)"
   ]
  }
 ],
 "metadata": {
  "kernelspec": {
   "display_name": "venv (3.11.9)",
   "language": "python",
   "name": "python3"
  },
  "language_info": {
   "codemirror_mode": {
    "name": "ipython",
    "version": 3
   },
   "file_extension": ".py",
   "mimetype": "text/x-python",
   "name": "python",
   "nbconvert_exporter": "python",
   "pygments_lexer": "ipython3",
   "version": "3.11.9"
  }
 },
 "nbformat": 4,
 "nbformat_minor": 5
}
